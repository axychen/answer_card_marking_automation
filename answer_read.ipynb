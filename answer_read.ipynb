{
 "cells": [
  {
   "cell_type": "code",
   "execution_count": 1,
   "id": "national-reunion",
   "metadata": {},
   "outputs": [],
   "source": [
    "import cv2\n",
    "\n",
    "img=cv2.imread(\"answer_card.png\",0)"
   ]
  },
  {
   "cell_type": "code",
   "execution_count": 2,
   "id": "electric-finding",
   "metadata": {},
   "outputs": [],
   "source": [
    "#image processing\n",
    "denoised = cv2.GaussianBlur(img,(5,5), cv2.BORDER_CONSTANT)\n",
    "_, seg = cv2.threshold(denoised,0,255,cv2.THRESH_BINARY+cv2.THRESH_OTSU)\n"
   ]
  },
  {
   "cell_type": "code",
   "execution_count": 3,
   "id": "circular-fountain",
   "metadata": {},
   "outputs": [],
   "source": [
    "#bordering\n",
    "contours, _= cv2.findContours(seg, cv2.RETR_TREE, cv2.CHAIN_APPROX_SIMPLE)"
   ]
  },
  {
   "cell_type": "code",
   "execution_count": null,
   "id": "sustained-oasis",
   "metadata": {},
   "outputs": [],
   "source": [
    "\n",
    "\n"
   ]
  },
  {
   "cell_type": "code",
   "execution_count": 4,
   "id": "handy-world",
   "metadata": {},
   "outputs": [
    {
     "data": {
      "text/plain": [
       "True"
      ]
     },
     "execution_count": 4,
     "metadata": {},
     "output_type": "execute_result"
    }
   ],
   "source": [
    "#cv2.imshow(\"display\", img) \n",
    "cv2.imwrite(\"otsu.jpg\", seg)"
   ]
  },
  {
   "cell_type": "code",
   "execution_count": null,
   "id": "wanted-hepatitis",
   "metadata": {},
   "outputs": [],
   "source": []
  }
 ],
 "metadata": {
  "kernelspec": {
   "display_name": "Python 3",
   "language": "python",
   "name": "python3"
  },
  "language_info": {
   "codemirror_mode": {
    "name": "ipython",
    "version": 3
   },
   "file_extension": ".py",
   "mimetype": "text/x-python",
   "name": "python",
   "nbconvert_exporter": "python",
   "pygments_lexer": "ipython3",
   "version": "3.6.5"
  }
 },
 "nbformat": 4,
 "nbformat_minor": 5
}
